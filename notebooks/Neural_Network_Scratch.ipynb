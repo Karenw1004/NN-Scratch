{
  "nbformat": 4,
  "nbformat_minor": 0,
  "metadata": {
    "colab": {
      "name": "Neural_Network_Scratch.ipynb",
      "provenance": [],
      "collapsed_sections": [],
      "mount_file_id": "1L5alq1jAG3u2pUKCNKnIP2-lVXhOgi3b",
      "authorship_tag": "ABX9TyO2SY8aPjTppd2Wz4kN5nCO",
      "include_colab_link": true
    },
    "kernelspec": {
      "name": "python3",
      "display_name": "Python 3"
    },
    "language_info": {
      "name": "python"
    }
  },
  "cells": [
    {
      "cell_type": "markdown",
      "metadata": {
        "id": "view-in-github",
        "colab_type": "text"
      },
      "source": [
        "<a href=\"https://colab.research.google.com/github/Karenw1004/NN-Scratch/blob/main/notebooks/Neural_Network_Scratch.ipynb\" target=\"_parent\"><img src=\"https://colab.research.google.com/assets/colab-badge.svg\" alt=\"Open In Colab\"/></a>"
      ]
    },
    {
      "cell_type": "markdown",
      "metadata": {
        "id": "7qVdb5eA4Yee"
      },
      "source": [
        "#Import required libraries"
      ]
    },
    {
      "cell_type": "code",
      "metadata": {
        "id": "JD6_f3j8RDyA"
      },
      "source": [
        "import pandas as pd\n",
        "import numpy as np"
      ],
      "execution_count": 1,
      "outputs": []
    },
    {
      "cell_type": "code",
      "metadata": {
        "colab": {
          "base_uri": "https://localhost:8080/"
        },
        "id": "yV2d5edzP8ne",
        "outputId": "d73da338-7b11-4d21-dad3-e683c60d6421"
      },
      "source": [
        "cd drive/MyDrive/NN-Scratch/notebooks/"
      ],
      "execution_count": 2,
      "outputs": [
        {
          "output_type": "stream",
          "text": [
            "/content/drive/MyDrive/NN-Scratch/notebooks\n"
          ],
          "name": "stdout"
        }
      ]
    },
    {
      "cell_type": "markdown",
      "metadata": {
        "id": "OgqWvWRd4h-Y"
      },
      "source": [
        "# First DataSet: Fashion MNIST\n",
        "https://www.kaggle.com/zalando-research/fashionmnist \n",
        "## Data Preprocessing\n",
        "Read data"
      ]
    },
    {
      "cell_type": "code",
      "metadata": {
        "id": "NzP9o2jVPJ6D"
      },
      "source": [
        "train_df = pd.read_csv(\"../data/fashion-mnist/fashion-mnist_train.csv\")\n",
        "test_df = pd.read_csv(\"../data/fashion-mnist/fashion-mnist_test.csv\")"
      ],
      "execution_count": 3,
      "outputs": []
    },
    {
      "cell_type": "code",
      "metadata": {
        "colab": {
          "base_uri": "https://localhost:8080/"
        },
        "id": "FH_52O3P5S3N",
        "outputId": "e7db6bbc-08dc-4fd1-f432-dc4e5ec3c364"
      },
      "source": [
        "train_df.info()"
      ],
      "execution_count": 4,
      "outputs": [
        {
          "output_type": "stream",
          "text": [
            "<class 'pandas.core.frame.DataFrame'>\n",
            "RangeIndex: 60000 entries, 0 to 59999\n",
            "Columns: 785 entries, label to pixel784\n",
            "dtypes: int64(785)\n",
            "memory usage: 359.3 MB\n"
          ],
          "name": "stdout"
        }
      ]
    },
    {
      "cell_type": "code",
      "metadata": {
        "colab": {
          "base_uri": "https://localhost:8080/"
        },
        "id": "P9k0UjvD5fYM",
        "outputId": "10940b1e-b0d2-4614-aabf-04b0bef1f1d1"
      },
      "source": [
        "test_df.info()"
      ],
      "execution_count": 5,
      "outputs": [
        {
          "output_type": "stream",
          "text": [
            "<class 'pandas.core.frame.DataFrame'>\n",
            "RangeIndex: 10000 entries, 0 to 9999\n",
            "Columns: 785 entries, label to pixel784\n",
            "dtypes: int64(785)\n",
            "memory usage: 59.9 MB\n"
          ],
          "name": "stdout"
        }
      ]
    },
    {
      "cell_type": "code",
      "metadata": {
        "colab": {
          "base_uri": "https://localhost:8080/",
          "height": 247
        },
        "id": "55Y2GKO2QFmh",
        "outputId": "65c5ab59-f8fe-40a0-a136-480b7e19ad0c"
      },
      "source": [
        "train_df.head()"
      ],
      "execution_count": 6,
      "outputs": [
        {
          "output_type": "execute_result",
          "data": {
            "text/html": [
              "<div>\n",
              "<style scoped>\n",
              "    .dataframe tbody tr th:only-of-type {\n",
              "        vertical-align: middle;\n",
              "    }\n",
              "\n",
              "    .dataframe tbody tr th {\n",
              "        vertical-align: top;\n",
              "    }\n",
              "\n",
              "    .dataframe thead th {\n",
              "        text-align: right;\n",
              "    }\n",
              "</style>\n",
              "<table border=\"1\" class=\"dataframe\">\n",
              "  <thead>\n",
              "    <tr style=\"text-align: right;\">\n",
              "      <th></th>\n",
              "      <th>label</th>\n",
              "      <th>pixel1</th>\n",
              "      <th>pixel2</th>\n",
              "      <th>pixel3</th>\n",
              "      <th>pixel4</th>\n",
              "      <th>pixel5</th>\n",
              "      <th>pixel6</th>\n",
              "      <th>pixel7</th>\n",
              "      <th>pixel8</th>\n",
              "      <th>pixel9</th>\n",
              "      <th>pixel10</th>\n",
              "      <th>pixel11</th>\n",
              "      <th>pixel12</th>\n",
              "      <th>pixel13</th>\n",
              "      <th>pixel14</th>\n",
              "      <th>pixel15</th>\n",
              "      <th>pixel16</th>\n",
              "      <th>pixel17</th>\n",
              "      <th>pixel18</th>\n",
              "      <th>pixel19</th>\n",
              "      <th>pixel20</th>\n",
              "      <th>pixel21</th>\n",
              "      <th>pixel22</th>\n",
              "      <th>pixel23</th>\n",
              "      <th>pixel24</th>\n",
              "      <th>pixel25</th>\n",
              "      <th>pixel26</th>\n",
              "      <th>pixel27</th>\n",
              "      <th>pixel28</th>\n",
              "      <th>pixel29</th>\n",
              "      <th>pixel30</th>\n",
              "      <th>pixel31</th>\n",
              "      <th>pixel32</th>\n",
              "      <th>pixel33</th>\n",
              "      <th>pixel34</th>\n",
              "      <th>pixel35</th>\n",
              "      <th>pixel36</th>\n",
              "      <th>pixel37</th>\n",
              "      <th>pixel38</th>\n",
              "      <th>pixel39</th>\n",
              "      <th>...</th>\n",
              "      <th>pixel745</th>\n",
              "      <th>pixel746</th>\n",
              "      <th>pixel747</th>\n",
              "      <th>pixel748</th>\n",
              "      <th>pixel749</th>\n",
              "      <th>pixel750</th>\n",
              "      <th>pixel751</th>\n",
              "      <th>pixel752</th>\n",
              "      <th>pixel753</th>\n",
              "      <th>pixel754</th>\n",
              "      <th>pixel755</th>\n",
              "      <th>pixel756</th>\n",
              "      <th>pixel757</th>\n",
              "      <th>pixel758</th>\n",
              "      <th>pixel759</th>\n",
              "      <th>pixel760</th>\n",
              "      <th>pixel761</th>\n",
              "      <th>pixel762</th>\n",
              "      <th>pixel763</th>\n",
              "      <th>pixel764</th>\n",
              "      <th>pixel765</th>\n",
              "      <th>pixel766</th>\n",
              "      <th>pixel767</th>\n",
              "      <th>pixel768</th>\n",
              "      <th>pixel769</th>\n",
              "      <th>pixel770</th>\n",
              "      <th>pixel771</th>\n",
              "      <th>pixel772</th>\n",
              "      <th>pixel773</th>\n",
              "      <th>pixel774</th>\n",
              "      <th>pixel775</th>\n",
              "      <th>pixel776</th>\n",
              "      <th>pixel777</th>\n",
              "      <th>pixel778</th>\n",
              "      <th>pixel779</th>\n",
              "      <th>pixel780</th>\n",
              "      <th>pixel781</th>\n",
              "      <th>pixel782</th>\n",
              "      <th>pixel783</th>\n",
              "      <th>pixel784</th>\n",
              "    </tr>\n",
              "  </thead>\n",
              "  <tbody>\n",
              "    <tr>\n",
              "      <th>0</th>\n",
              "      <td>2</td>\n",
              "      <td>0</td>\n",
              "      <td>0</td>\n",
              "      <td>0</td>\n",
              "      <td>0</td>\n",
              "      <td>0</td>\n",
              "      <td>0</td>\n",
              "      <td>0</td>\n",
              "      <td>0</td>\n",
              "      <td>0</td>\n",
              "      <td>0</td>\n",
              "      <td>0</td>\n",
              "      <td>0</td>\n",
              "      <td>0</td>\n",
              "      <td>0</td>\n",
              "      <td>0</td>\n",
              "      <td>0</td>\n",
              "      <td>0</td>\n",
              "      <td>0</td>\n",
              "      <td>0</td>\n",
              "      <td>0</td>\n",
              "      <td>0</td>\n",
              "      <td>0</td>\n",
              "      <td>0</td>\n",
              "      <td>0</td>\n",
              "      <td>0</td>\n",
              "      <td>0</td>\n",
              "      <td>0</td>\n",
              "      <td>0</td>\n",
              "      <td>0</td>\n",
              "      <td>0</td>\n",
              "      <td>0</td>\n",
              "      <td>0</td>\n",
              "      <td>0</td>\n",
              "      <td>0</td>\n",
              "      <td>0</td>\n",
              "      <td>0</td>\n",
              "      <td>0</td>\n",
              "      <td>0</td>\n",
              "      <td>0</td>\n",
              "      <td>...</td>\n",
              "      <td>0</td>\n",
              "      <td>0</td>\n",
              "      <td>0</td>\n",
              "      <td>0</td>\n",
              "      <td>0</td>\n",
              "      <td>0</td>\n",
              "      <td>0</td>\n",
              "      <td>0</td>\n",
              "      <td>0</td>\n",
              "      <td>0</td>\n",
              "      <td>0</td>\n",
              "      <td>0</td>\n",
              "      <td>0</td>\n",
              "      <td>0</td>\n",
              "      <td>0</td>\n",
              "      <td>0</td>\n",
              "      <td>0</td>\n",
              "      <td>0</td>\n",
              "      <td>0</td>\n",
              "      <td>0</td>\n",
              "      <td>0</td>\n",
              "      <td>0</td>\n",
              "      <td>0</td>\n",
              "      <td>0</td>\n",
              "      <td>0</td>\n",
              "      <td>0</td>\n",
              "      <td>0</td>\n",
              "      <td>0</td>\n",
              "      <td>0</td>\n",
              "      <td>0</td>\n",
              "      <td>0</td>\n",
              "      <td>0</td>\n",
              "      <td>0</td>\n",
              "      <td>0</td>\n",
              "      <td>0</td>\n",
              "      <td>0</td>\n",
              "      <td>0</td>\n",
              "      <td>0</td>\n",
              "      <td>0</td>\n",
              "      <td>0</td>\n",
              "    </tr>\n",
              "    <tr>\n",
              "      <th>1</th>\n",
              "      <td>9</td>\n",
              "      <td>0</td>\n",
              "      <td>0</td>\n",
              "      <td>0</td>\n",
              "      <td>0</td>\n",
              "      <td>0</td>\n",
              "      <td>0</td>\n",
              "      <td>0</td>\n",
              "      <td>0</td>\n",
              "      <td>0</td>\n",
              "      <td>0</td>\n",
              "      <td>0</td>\n",
              "      <td>0</td>\n",
              "      <td>0</td>\n",
              "      <td>0</td>\n",
              "      <td>0</td>\n",
              "      <td>0</td>\n",
              "      <td>0</td>\n",
              "      <td>0</td>\n",
              "      <td>0</td>\n",
              "      <td>0</td>\n",
              "      <td>0</td>\n",
              "      <td>0</td>\n",
              "      <td>0</td>\n",
              "      <td>0</td>\n",
              "      <td>0</td>\n",
              "      <td>0</td>\n",
              "      <td>0</td>\n",
              "      <td>0</td>\n",
              "      <td>0</td>\n",
              "      <td>0</td>\n",
              "      <td>0</td>\n",
              "      <td>0</td>\n",
              "      <td>0</td>\n",
              "      <td>0</td>\n",
              "      <td>0</td>\n",
              "      <td>0</td>\n",
              "      <td>0</td>\n",
              "      <td>0</td>\n",
              "      <td>0</td>\n",
              "      <td>...</td>\n",
              "      <td>0</td>\n",
              "      <td>0</td>\n",
              "      <td>0</td>\n",
              "      <td>0</td>\n",
              "      <td>0</td>\n",
              "      <td>0</td>\n",
              "      <td>0</td>\n",
              "      <td>0</td>\n",
              "      <td>0</td>\n",
              "      <td>0</td>\n",
              "      <td>0</td>\n",
              "      <td>0</td>\n",
              "      <td>0</td>\n",
              "      <td>0</td>\n",
              "      <td>0</td>\n",
              "      <td>0</td>\n",
              "      <td>0</td>\n",
              "      <td>0</td>\n",
              "      <td>0</td>\n",
              "      <td>0</td>\n",
              "      <td>0</td>\n",
              "      <td>0</td>\n",
              "      <td>0</td>\n",
              "      <td>0</td>\n",
              "      <td>0</td>\n",
              "      <td>0</td>\n",
              "      <td>0</td>\n",
              "      <td>0</td>\n",
              "      <td>0</td>\n",
              "      <td>0</td>\n",
              "      <td>0</td>\n",
              "      <td>0</td>\n",
              "      <td>0</td>\n",
              "      <td>0</td>\n",
              "      <td>0</td>\n",
              "      <td>0</td>\n",
              "      <td>0</td>\n",
              "      <td>0</td>\n",
              "      <td>0</td>\n",
              "      <td>0</td>\n",
              "    </tr>\n",
              "    <tr>\n",
              "      <th>2</th>\n",
              "      <td>6</td>\n",
              "      <td>0</td>\n",
              "      <td>0</td>\n",
              "      <td>0</td>\n",
              "      <td>0</td>\n",
              "      <td>0</td>\n",
              "      <td>0</td>\n",
              "      <td>0</td>\n",
              "      <td>5</td>\n",
              "      <td>0</td>\n",
              "      <td>0</td>\n",
              "      <td>0</td>\n",
              "      <td>105</td>\n",
              "      <td>92</td>\n",
              "      <td>101</td>\n",
              "      <td>107</td>\n",
              "      <td>100</td>\n",
              "      <td>132</td>\n",
              "      <td>0</td>\n",
              "      <td>0</td>\n",
              "      <td>2</td>\n",
              "      <td>4</td>\n",
              "      <td>0</td>\n",
              "      <td>1</td>\n",
              "      <td>0</td>\n",
              "      <td>0</td>\n",
              "      <td>0</td>\n",
              "      <td>0</td>\n",
              "      <td>0</td>\n",
              "      <td>0</td>\n",
              "      <td>0</td>\n",
              "      <td>0</td>\n",
              "      <td>0</td>\n",
              "      <td>0</td>\n",
              "      <td>0</td>\n",
              "      <td>0</td>\n",
              "      <td>0</td>\n",
              "      <td>0</td>\n",
              "      <td>0</td>\n",
              "      <td>150</td>\n",
              "      <td>...</td>\n",
              "      <td>211</td>\n",
              "      <td>220</td>\n",
              "      <td>214</td>\n",
              "      <td>74</td>\n",
              "      <td>0</td>\n",
              "      <td>255</td>\n",
              "      <td>222</td>\n",
              "      <td>128</td>\n",
              "      <td>0</td>\n",
              "      <td>0</td>\n",
              "      <td>0</td>\n",
              "      <td>0</td>\n",
              "      <td>0</td>\n",
              "      <td>0</td>\n",
              "      <td>0</td>\n",
              "      <td>0</td>\n",
              "      <td>0</td>\n",
              "      <td>44</td>\n",
              "      <td>12</td>\n",
              "      <td>0</td>\n",
              "      <td>0</td>\n",
              "      <td>40</td>\n",
              "      <td>134</td>\n",
              "      <td>162</td>\n",
              "      <td>191</td>\n",
              "      <td>214</td>\n",
              "      <td>163</td>\n",
              "      <td>146</td>\n",
              "      <td>165</td>\n",
              "      <td>79</td>\n",
              "      <td>0</td>\n",
              "      <td>0</td>\n",
              "      <td>0</td>\n",
              "      <td>30</td>\n",
              "      <td>43</td>\n",
              "      <td>0</td>\n",
              "      <td>0</td>\n",
              "      <td>0</td>\n",
              "      <td>0</td>\n",
              "      <td>0</td>\n",
              "    </tr>\n",
              "    <tr>\n",
              "      <th>3</th>\n",
              "      <td>0</td>\n",
              "      <td>0</td>\n",
              "      <td>0</td>\n",
              "      <td>0</td>\n",
              "      <td>1</td>\n",
              "      <td>2</td>\n",
              "      <td>0</td>\n",
              "      <td>0</td>\n",
              "      <td>0</td>\n",
              "      <td>0</td>\n",
              "      <td>0</td>\n",
              "      <td>114</td>\n",
              "      <td>183</td>\n",
              "      <td>112</td>\n",
              "      <td>55</td>\n",
              "      <td>23</td>\n",
              "      <td>72</td>\n",
              "      <td>102</td>\n",
              "      <td>165</td>\n",
              "      <td>160</td>\n",
              "      <td>28</td>\n",
              "      <td>0</td>\n",
              "      <td>0</td>\n",
              "      <td>0</td>\n",
              "      <td>1</td>\n",
              "      <td>0</td>\n",
              "      <td>0</td>\n",
              "      <td>0</td>\n",
              "      <td>0</td>\n",
              "      <td>0</td>\n",
              "      <td>0</td>\n",
              "      <td>0</td>\n",
              "      <td>0</td>\n",
              "      <td>1</td>\n",
              "      <td>0</td>\n",
              "      <td>0</td>\n",
              "      <td>24</td>\n",
              "      <td>188</td>\n",
              "      <td>163</td>\n",
              "      <td>93</td>\n",
              "      <td>...</td>\n",
              "      <td>171</td>\n",
              "      <td>249</td>\n",
              "      <td>207</td>\n",
              "      <td>197</td>\n",
              "      <td>202</td>\n",
              "      <td>45</td>\n",
              "      <td>0</td>\n",
              "      <td>3</td>\n",
              "      <td>0</td>\n",
              "      <td>0</td>\n",
              "      <td>0</td>\n",
              "      <td>0</td>\n",
              "      <td>0</td>\n",
              "      <td>0</td>\n",
              "      <td>0</td>\n",
              "      <td>0</td>\n",
              "      <td>0</td>\n",
              "      <td>0</td>\n",
              "      <td>1</td>\n",
              "      <td>0</td>\n",
              "      <td>0</td>\n",
              "      <td>0</td>\n",
              "      <td>22</td>\n",
              "      <td>21</td>\n",
              "      <td>25</td>\n",
              "      <td>69</td>\n",
              "      <td>52</td>\n",
              "      <td>45</td>\n",
              "      <td>74</td>\n",
              "      <td>39</td>\n",
              "      <td>3</td>\n",
              "      <td>0</td>\n",
              "      <td>0</td>\n",
              "      <td>0</td>\n",
              "      <td>0</td>\n",
              "      <td>1</td>\n",
              "      <td>0</td>\n",
              "      <td>0</td>\n",
              "      <td>0</td>\n",
              "      <td>0</td>\n",
              "    </tr>\n",
              "    <tr>\n",
              "      <th>4</th>\n",
              "      <td>3</td>\n",
              "      <td>0</td>\n",
              "      <td>0</td>\n",
              "      <td>0</td>\n",
              "      <td>0</td>\n",
              "      <td>0</td>\n",
              "      <td>0</td>\n",
              "      <td>0</td>\n",
              "      <td>0</td>\n",
              "      <td>0</td>\n",
              "      <td>0</td>\n",
              "      <td>0</td>\n",
              "      <td>0</td>\n",
              "      <td>46</td>\n",
              "      <td>0</td>\n",
              "      <td>21</td>\n",
              "      <td>68</td>\n",
              "      <td>0</td>\n",
              "      <td>0</td>\n",
              "      <td>0</td>\n",
              "      <td>0</td>\n",
              "      <td>0</td>\n",
              "      <td>0</td>\n",
              "      <td>0</td>\n",
              "      <td>0</td>\n",
              "      <td>0</td>\n",
              "      <td>0</td>\n",
              "      <td>0</td>\n",
              "      <td>0</td>\n",
              "      <td>0</td>\n",
              "      <td>0</td>\n",
              "      <td>0</td>\n",
              "      <td>0</td>\n",
              "      <td>0</td>\n",
              "      <td>0</td>\n",
              "      <td>0</td>\n",
              "      <td>0</td>\n",
              "      <td>25</td>\n",
              "      <td>187</td>\n",
              "      <td>189</td>\n",
              "      <td>...</td>\n",
              "      <td>230</td>\n",
              "      <td>237</td>\n",
              "      <td>229</td>\n",
              "      <td>0</td>\n",
              "      <td>0</td>\n",
              "      <td>1</td>\n",
              "      <td>0</td>\n",
              "      <td>0</td>\n",
              "      <td>0</td>\n",
              "      <td>0</td>\n",
              "      <td>0</td>\n",
              "      <td>0</td>\n",
              "      <td>0</td>\n",
              "      <td>0</td>\n",
              "      <td>0</td>\n",
              "      <td>0</td>\n",
              "      <td>0</td>\n",
              "      <td>0</td>\n",
              "      <td>0</td>\n",
              "      <td>0</td>\n",
              "      <td>0</td>\n",
              "      <td>68</td>\n",
              "      <td>116</td>\n",
              "      <td>112</td>\n",
              "      <td>136</td>\n",
              "      <td>147</td>\n",
              "      <td>144</td>\n",
              "      <td>121</td>\n",
              "      <td>102</td>\n",
              "      <td>63</td>\n",
              "      <td>0</td>\n",
              "      <td>0</td>\n",
              "      <td>0</td>\n",
              "      <td>0</td>\n",
              "      <td>0</td>\n",
              "      <td>0</td>\n",
              "      <td>0</td>\n",
              "      <td>0</td>\n",
              "      <td>0</td>\n",
              "      <td>0</td>\n",
              "    </tr>\n",
              "  </tbody>\n",
              "</table>\n",
              "<p>5 rows × 785 columns</p>\n",
              "</div>"
            ],
            "text/plain": [
              "   label  pixel1  pixel2  pixel3  ...  pixel781  pixel782  pixel783  pixel784\n",
              "0      2       0       0       0  ...         0         0         0         0\n",
              "1      9       0       0       0  ...         0         0         0         0\n",
              "2      6       0       0       0  ...         0         0         0         0\n",
              "3      0       0       0       0  ...         0         0         0         0\n",
              "4      3       0       0       0  ...         0         0         0         0\n",
              "\n",
              "[5 rows x 785 columns]"
            ]
          },
          "metadata": {
            "tags": []
          },
          "execution_count": 6
        }
      ]
    },
    {
      "cell_type": "markdown",
      "metadata": {
        "id": "9W99ICFQ4ntJ"
      },
      "source": [
        "There are 1 label col and 784 columns of pixel. <br/>\n",
        "So, 28(height)*28(width) will results in 784."
      ]
    },
    {
      "cell_type": "code",
      "metadata": {
        "id": "_zUtOiSOQHxT"
      },
      "source": [
        "train_data = np.array(train_df, dtype='float32')\n",
        "test_data = np.array(test_df, dtype='float32')"
      ],
      "execution_count": 7,
      "outputs": []
    },
    {
      "cell_type": "code",
      "metadata": {
        "id": "AekyvUyn53kF"
      },
      "source": [
        "# Ref: https://stackoverflow.com/questions/29831489/convert-array-of-indices-to-1-hot-encoded-numpy-array\n",
        "def one_hot_encoding_scratch(labels):\n",
        "  try:\n",
        "    num_classes = len(np.unique(labels))\n",
        "    diag = np.eye(num_classes)\n",
        "    return np.squeeze(diag)[labels.reshape(-1)].T\n",
        "  except:\n",
        "    n_values = np.max(labels) + 1\n",
        "    return np.eye(n_values)[labels]"
      ],
      "execution_count": 8,
      "outputs": []
    },
    {
      "cell_type": "code",
      "metadata": {
        "id": "K-uyQtpbQxiL"
      },
      "source": [
        "# train\n",
        "X_train = train_data[:,1:]\n",
        "X_train = X_train/255\n",
        "y_train = train_data[:,0].astype(int)\n",
        "y_train = one_hot_encoding_scratch(y_train)\n",
        "# test\n",
        "X_test = test_data[:, 1:]\n",
        "X_test = X_test/255\n",
        "y_test = test_data[:, 0].astype(int)\n",
        "y_test = one_hot_encoding_scratch(y_test)"
      ],
      "execution_count": 9,
      "outputs": []
    },
    {
      "cell_type": "markdown",
      "metadata": {
        "id": "J_c8dVsR5Atn"
      },
      "source": [
        "Divide by 255 because we need to make data to 0-1. <br />\n",
        "Do one hot encoding on the labels (y)"
      ]
    },
    {
      "cell_type": "markdown",
      "metadata": {
        "id": "7GW9Y_uljsPr"
      },
      "source": [
        "#Neural Network\n",
        "##Layer\n"
      ]
    },
    {
      "cell_type": "code",
      "metadata": {
        "id": "sL4cS6RwKTUv"
      },
      "source": [
        "class Layer:\n",
        "  def __init__(input_size, output_size, activation, optimizer):\n",
        "    self.input = None\n",
        "    self.output = None\n",
        "  \n",
        "  def forward(self, input_data):\n",
        "    raise ValueError(\"Not implemented\")\n",
        "  \n",
        "  def backward(self, deriv_activation, learning_rate, train_size):\n",
        "    raise ValueError(\"Not implemented\")"
      ],
      "execution_count": 10,
      "outputs": []
    },
    {
      "cell_type": "markdown",
      "metadata": {
        "id": "_mYaGITgt1fF"
      },
      "source": [
        "Equation for <br/>\n",
        "Input layer  <br/>\n",
        "Hidden layer 1   <br/>\n",
        "Hidden layer 2  <br/>\n",
        "Output layer   <br/>\n",
        "With tanh activation  and Softmax\n",
        "\n",
        " <br/> <br/>\n",
        "Feed forward equations: <br/>\n",
        "z1 = x.w1+b1 <br/>\n",
        "a1 = tanh(z1) <br/>\n",
        "z2 = a1.w2+b2 <br/>\n",
        "a2 = tanh(z2) <br/>\n",
        "z3 = a2.w3+b3 <br/> \n",
        "a3 = softmax(z3) <br/>\n",
        "<br/><br/>\n",
        "Back propagation equations: <br/>\n",
        "There is no z3_delta and softmax_derv(a3), as explained before. <br/>\n",
        "a3_delta = a3-y     <br/>\n",
        "z2_delta = a3_delta.w3.T<br/>\n",
        "a2_delta = z2_delta.tanh_derv(a2) <br/>\n",
        "z1_delta = a2_delta.w2.T <br/>\n",
        "a1_delta = z1_delta.tanh_derv(a1) <br/>\n",
        "\n",
        "With these formulas, let's code"
      ]
    },
    {
      "cell_type": "code",
      "metadata": {
        "id": "tbm6XkIaKt08"
      },
      "source": [
        "class Dense(Layer):\n",
        "  \n",
        "    def __init__(self, input_size, output_size, activation, optimizer):\n",
        "        self.activation = activation\n",
        "        self.optimizer = optimizer\n",
        "\n",
        "        self.weights = np.random.randn(output_size, input_size) * self.activation.heuristic(input_size)\n",
        "        self.bias = np.ones((output_size, 1))\n",
        "\n",
        "    def forward(self, input_data):\n",
        "        self.input = input_data\n",
        "        self.pre_activation = np.dot(self.weights, self.input) + self.bias\n",
        "        self.activation_output = self.activation.activ(self.pre_activation)\n",
        "\n",
        "        return self.activation_output, self.weights\n",
        "\n",
        "    def backward(self, deriv_activation, learning_rate, train_size):\n",
        "        deriv_pre_activation = self.activation.deriv(self.activation_output) * deriv_activation\n",
        "        deriv_activation = np.dot(self.weights.T, deriv_pre_activation)\n",
        "\n",
        "        self.deriv_weights = np.dot(deriv_pre_activation, self.input.T) / train_size\n",
        "        self.deriv_bias = np.sum(deriv_pre_activation, axis=1, keepdims=True) / train_size\n",
        "\n",
        "        self.weights -= learning_rate * (self.optimizer.for_dw(self.deriv_weights))\n",
        "        self.bias -= learning_rate * self.optimizer.for_db(self.deriv_bias)\n",
        "\n",
        "        return deriv_activation\n"
      ],
      "execution_count": 11,
      "outputs": []
    },
    {
      "cell_type": "code",
      "metadata": {
        "id": "Z96lALctMe_l"
      },
      "source": [
        "class SoftmaxLayer(Dense):\n",
        "  def backward(self, deriv_activation, learning_rate, train_size):\n",
        "    deriv_pre_activation = deriv_activation\n",
        "    deriv_activation = np.dot(self.weights.T, deriv_pre_activation)\n",
        "\n",
        "    self.deriv_weights = np.dot(deriv_pre_activation, self.input.T) / train_size\n",
        "    self.deriv_bias = np.sum(deriv_pre_activation, axis=1, keepdims=True) / train_size\n",
        "\n",
        "    self.weights -= learning_rate * (self.optimizer.for_dw(self.deriv_weights))\n",
        "    self.bias -= learning_rate * self.optimizer.for_db(self.deriv_bias)\n",
        "\n",
        "    return deriv_activation\n"
      ],
      "execution_count": 12,
      "outputs": []
    },
    {
      "cell_type": "markdown",
      "metadata": {
        "id": "6n8MTbcRkuP2"
      },
      "source": [
        "##Loss\n"
      ]
    },
    {
      "cell_type": "code",
      "metadata": {
        "id": "Ybj78G21K6N2"
      },
      "source": [
        "class Loss:\n",
        "  def fct(self, labels, preds):\n",
        "    raise ValueError(\"Not implemented\")\n",
        "\n",
        "  def deriv(self, labels, preds):\n",
        "    raise ValueError(\"Not implemented\")"
      ],
      "execution_count": 13,
      "outputs": []
    },
    {
      "cell_type": "markdown",
      "metadata": {
        "id": "o8k5B6T8SD0o"
      },
      "source": [
        "$mse = \\sqrt{(\\frac{1}{n})\\sum_{i=1}^{n}(y_{i} - x_{i})^{2}}$"
      ]
    },
    {
      "cell_type": "code",
      "metadata": {
        "id": "5Ib2KfmUlEIQ"
      },
      "source": [
        "class MSE(Loss):\n",
        "  def fct(self, labels, preds):\n",
        "    return np.mean(np.power(labels - preds, 2))\n",
        "\n",
        "  def deriv(self, labels, preds):\n",
        "    return 2 * (preds - labels) / labels.size"
      ],
      "execution_count": 14,
      "outputs": []
    },
    {
      "cell_type": "markdown",
      "metadata": {
        "id": "2VtE1GaFl2rc"
      },
      "source": [
        "##Optimizer"
      ]
    },
    {
      "cell_type": "code",
      "metadata": {
        "id": "WJNq6SKPl44n"
      },
      "source": [
        "class Optimizer:\n",
        "    def __init__(self):\n",
        "        raise ValueError(\"Not implemented\")\n",
        "\n",
        "    def for_dw(self, deriv_weights):\n",
        "        raise ValueError(\"Not implemented\")\n",
        "\n",
        "    def for_db(self, deriv_bias):\n",
        "        raise ValueError(\"Not implemented\")"
      ],
      "execution_count": 15,
      "outputs": []
    },
    {
      "cell_type": "markdown",
      "metadata": {
        "id": "4Y7a9qHxG8iT"
      },
      "source": [
        "Recommended by the adam paper <br/>\n",
        "learning_rate=0.001, beta1=0.9, beta2=0.999, epsilon=1e-08. <br/>\n",
        "\n",
        "Calculation: <br/>\n",
        "1. the gradient (partial derivatives) are calculated for the current time step.\n",
        "\n",
        "> g(t) = f'(x(t-1))\n",
        "\n",
        "2. the first moment is updated using the gradient and a hyperparameter beta1.\n",
        "\n",
        "> m(t) = beta1 * m(t-1) + (1 – beta1) * g(t)\n",
        "\n",
        "3. the second moment is updated using the squared gradient and a hyperparameter beta2.\n",
        "\n",
        "> v(t) = beta2 * v(t-1) + (1 – beta2) * g(t)^2\n",
        "\n",
        "The first and second moments are biased because they are initialized with zero values."
      ]
    },
    {
      "cell_type": "code",
      "metadata": {
        "id": "6N5QnDYXmHKG"
      },
      "source": [
        "class Adam(Optimizer):\n",
        "    def __init__(self):\n",
        "        self.var_dw = 0\n",
        "        self.var_db = 0\n",
        "        self.mean_dw = 0\n",
        "        self.mean_db = 0\n",
        "        self.beta1 = 0.9\n",
        "        self.beta2 = 0.999\n",
        "        self.epsilon = 1e-8\n",
        "\n",
        "    def for_dw(self, deriv_weights):\n",
        "        self.var_dw = (self.beta1 * self.var_dw) + ((1 - self.beta1) * deriv_weights)\n",
        "        self.mean_dw = (self.beta2 * self.mean_dw) + ((1 - self.beta2) * np.square(deriv_weights))\n",
        "\n",
        "        return self.var_dw / (np.sqrt(self.mean_dw) + self.epsilon)\n",
        "\n",
        "    def for_db(self, deriv_bias):\n",
        "        self.var_db = (self.beta1 * self.var_db) + ((1 - self.beta1) * deriv_bias)\n",
        "        self.mean_db = (self.beta2 * self.mean_db) + ((1 - self.beta2) * np.square(deriv_bias))\n",
        "\n",
        "        return self.var_db / (np.sqrt(self.mean_db) + self.epsilon)"
      ],
      "execution_count": 16,
      "outputs": []
    },
    {
      "cell_type": "markdown",
      "metadata": {
        "id": "Ggd40g3lmws_"
      },
      "source": [
        "#Activations"
      ]
    },
    {
      "cell_type": "code",
      "metadata": {
        "id": "i4NmRvG6mwAG"
      },
      "source": [
        "class Activation:\n",
        "  def activ(self, data):\n",
        "    raise ValueError(\"Not implemented\")\n",
        "\n",
        "  def deriv(self, data):   \n",
        "    raise ValueError(\"Not implemented\")\n",
        "\n",
        "  def heuristic(self, data):\n",
        "    raise ValueError(\"Not implemented\")\n"
      ],
      "execution_count": 17,
      "outputs": []
    },
    {
      "cell_type": "markdown",
      "metadata": {
        "id": "NuQandeFO2Io"
      },
      "source": [
        "Tanh Function :- The activation that works almost always better than sigmoid function is Tanh function also knows as Tangent Hyperbolic<br/>\n",
        "\n",
        "f(x) = tanh(x) = 2/(1 + e-2x) - 1\n",
        "<br/> OR <br />\n",
        "tanh(x) = 2 * sigmoid(2x) - 1\n",
        "\n",
        "$\\frac{d}{{dx}}\\tanh x = 1 - \\tanh ^2 x$"
      ]
    },
    {
      "cell_type": "code",
      "metadata": {
        "id": "bWaNVf0fm6N8"
      },
      "source": [
        "class Tanh(Activation):\n",
        "  def activ(self, data):\n",
        "    return np.tanh(data)\n",
        "\n",
        "  def deriv(self, data):\n",
        "    return 1 - np.square(data)\n",
        "\n",
        "  def heuristic(self, data):\n",
        "    return np.sqrt(1 / data)\n"
      ],
      "execution_count": 18,
      "outputs": []
    },
    {
      "cell_type": "markdown",
      "metadata": {
        "id": "YBLqUsm4QXeF"
      },
      "source": [
        "$\n",
        "\\text{Softmax}(x_{i}) = \\frac{\\exp(x_i)}{\\sum_j \\exp(x_j)}\n",
        "$"
      ]
    },
    {
      "cell_type": "code",
      "metadata": {
        "id": "A7ncI99U6rrN"
      },
      "source": [
        "class Softmax(Activation):\n",
        "  def activ(self, data):\n",
        "    maxVal = np.max(data, axis=0, keepdims=True) \n",
        "    return np.exp(data - maxVal) / np.sum(np.exp(data - maxVal), axis=0, keepdims=True)\n",
        "\n",
        "  def deriv(self, data):\n",
        "    return data * (1 - data)\n",
        "\n",
        "  def heuristic(self, data):\n",
        "    return np.sqrt(1 / data)\n"
      ],
      "execution_count": 19,
      "outputs": []
    },
    {
      "cell_type": "markdown",
      "metadata": {
        "id": "XQNN9jQ-BHuS"
      },
      "source": [
        "## Network "
      ]
    },
    {
      "cell_type": "code",
      "metadata": {
        "id": "ognX9IQyQ0RE"
      },
      "source": [
        "class Network:\n",
        "    def __init__(self):\n",
        "      self.layers = []\n",
        "      self.loss = None\n",
        "\n",
        "    def add(self, layer):\n",
        "      self.layers.append(layer)\n",
        "\n",
        "    def use(self, loss):\n",
        "      self.loss = loss\n",
        "\n",
        "    def cost(self, loss, size):\n",
        "      return np.sum(loss) / size\n",
        "\n",
        "    def train(self, x_train, y_train, epochs, learning_rate, batch_size=128):\n",
        "      train_size = x_train.shape[1]\n",
        "      for i in range(1, epochs + 1):\n",
        "\n",
        "          shuffled_x, shuffled_y = self.shuffle_dataset(x_train, y_train, train_size)\n",
        "\n",
        "          for batch in range(0, train_size, batch_size):\n",
        "\n",
        "              batch_a, batch_y = self.get_mini_batch(shuffled_x, shuffled_y, batch, batch_size)\n",
        "\n",
        "              for layer in self.layers:\n",
        "\n",
        "                  batch_a, weights = layer.forward(batch_a)\n",
        "\n",
        "              cost = self.cost(self.loss.fct(batch_y, batch_a), batch_size) \n",
        "              deriv_activation = self.loss.deriv(batch_y, batch_a)\n",
        "\n",
        "              for layer in reversed(self.layers):\n",
        "                  deriv_activation = layer.backward(deriv_activation,\n",
        "                                                          learning_rate,\n",
        "                                                          batch_size)\n",
        "\n",
        "          print(f\"Epoch {i} finished \\t {self.loss.__class__.__name__} error {cost}\")\n",
        "\n",
        "    def shuffle_dataset(self, x_train, y_train, train_size):\n",
        "      permutation = list(np.random.permutation(train_size))\n",
        "      shuffled_x = x_train[:, permutation]\n",
        "      shuffled_y = y_train[:, permutation]\n",
        "\n",
        "      return shuffled_x, shuffled_y\n",
        "\n",
        "    def get_mini_batch(self, x_train, y_train, pos, batch_size):\n",
        "      batch_x = x_train[:, pos: pos + batch_size]\n",
        "      batch_y = y_train[:, pos: pos + batch_size]\n",
        "\n",
        "      return batch_x, batch_y\n",
        "\n",
        "    def predict(self, data):\n",
        "      activation = data\n",
        "      for layer in self.layers:\n",
        "          activation, _ = layer.forward(activation)\n",
        "\n",
        "      return activation\n",
        "    \n",
        "    def accuracy(self, x_train, y_train):\n",
        "      train_results = net.predict(x_train)\n",
        "      train_results = np.argmax(train_results, axis=0)\n",
        "      true_results = np.argmax(y_train, axis=0)\n",
        "      assert len(train_results) == len(true_results)\n",
        "\n",
        "      return np.mean(train_results == true_results) * 100\n"
      ],
      "execution_count": 20,
      "outputs": []
    },
    {
      "cell_type": "markdown",
      "metadata": {
        "id": "4e0HCY3Gs8Cq"
      },
      "source": [
        "# Build network to classify the pictures"
      ]
    },
    {
      "cell_type": "code",
      "metadata": {
        "id": "swmixykgrfH1"
      },
      "source": [
        "X_train = X_train.reshape(X_train.shape[0],X_train.shape[1]).T\n",
        "X_test = X_test.reshape(X_test.shape[0],X_test.shape[1]).T"
      ],
      "execution_count": 21,
      "outputs": []
    },
    {
      "cell_type": "code",
      "metadata": {
        "colab": {
          "base_uri": "https://localhost:8080/"
        },
        "id": "J7G_6MyBsDgq",
        "outputId": "2d744e8e-8320-49c8-b211-fd790157df8c"
      },
      "source": [
        "num_classes = y_train.shape[0]\n",
        "num_classes"
      ],
      "execution_count": 22,
      "outputs": [
        {
          "output_type": "execute_result",
          "data": {
            "text/plain": [
              "10"
            ]
          },
          "metadata": {
            "tags": []
          },
          "execution_count": 22
        }
      ]
    },
    {
      "cell_type": "code",
      "metadata": {
        "colab": {
          "base_uri": "https://localhost:8080/"
        },
        "id": "RyPdIm84sLl3",
        "outputId": "fe9dc936-fddc-4431-ac66-93ddcd0c897a"
      },
      "source": [
        "num_pixels = X_train.shape[0]\n",
        "num_pixels"
      ],
      "execution_count": 23,
      "outputs": [
        {
          "output_type": "execute_result",
          "data": {
            "text/plain": [
              "784"
            ]
          },
          "metadata": {
            "tags": []
          },
          "execution_count": 23
        }
      ]
    },
    {
      "cell_type": "code",
      "metadata": {
        "id": "GiiQZgUvWMim"
      },
      "source": [
        "# Network\n",
        "net = Network()\n",
        "\n",
        "net.add(Dense(num_pixels, 100, Tanh(), Adam()))                \n",
        "net.add(Dense(100, 50, Tanh(), Adam()))                \n",
        "net.add(Dense(50, 25, Tanh(), Adam()))                \n",
        "net.add(SoftmaxLayer(25, num_classes, Softmax(), Adam()))                \n",
        "                  \n",
        "net.use(MSE())"
      ],
      "execution_count": 24,
      "outputs": []
    },
    {
      "cell_type": "code",
      "metadata": {
        "colab": {
          "base_uri": "https://localhost:8080/"
        },
        "id": "86DKGfbACZy1",
        "outputId": "9fcc54d7-1bce-4325-e84b-4508421186d3"
      },
      "source": [
        "net.train(X_train, y_train, epochs=10, learning_rate=0.001)"
      ],
      "execution_count": 25,
      "outputs": [
        {
          "output_type": "stream",
          "text": [
            "Epoch 1 finished \t MSE error 0.00011400896386745994\n",
            "Epoch 2 finished \t MSE error 0.00016324943188735576\n",
            "Epoch 3 finished \t MSE error 0.00011301101678479437\n",
            "Epoch 4 finished \t MSE error 0.00013229685611141847\n",
            "Epoch 5 finished \t MSE error 0.0001760085791790349\n",
            "Epoch 6 finished \t MSE error 0.00012750614131306536\n",
            "Epoch 7 finished \t MSE error 7.751138049500242e-05\n",
            "Epoch 8 finished \t MSE error 5.9609571658971284e-05\n",
            "Epoch 9 finished \t MSE error 5.9893615331036766e-05\n",
            "Epoch 10 finished \t MSE error 7.069508842698036e-05\n"
          ],
          "name": "stdout"
        }
      ]
    },
    {
      "cell_type": "code",
      "metadata": {
        "colab": {
          "base_uri": "https://localhost:8080/"
        },
        "id": "A1iPP-Ne2uEN",
        "outputId": "89444f89-c220-4e83-ea07-fd157dddc587"
      },
      "source": [
        "train_acc = net.accuracy(X_train,y_train)\n",
        "print(f\"Train Dataset Accuracy: {train_acc}%\")"
      ],
      "execution_count": 26,
      "outputs": [
        {
          "output_type": "stream",
          "text": [
            "Train Dataset Accuracy: 91.55166666666666%\n"
          ],
          "name": "stdout"
        }
      ]
    },
    {
      "cell_type": "code",
      "metadata": {
        "colab": {
          "base_uri": "https://localhost:8080/"
        },
        "id": "MdVXfjFuDkBD",
        "outputId": "2ab7ee81-c22f-49c7-da9c-d1ee4aaf9091"
      },
      "source": [
        "test_acc = net.accuracy(X_test,y_test)\n",
        "print(f\"Test Dataset Accuracy: {test_acc}%\")"
      ],
      "execution_count": 27,
      "outputs": [
        {
          "output_type": "stream",
          "text": [
            "Test Dataset Accuracy: 88.94999999999999%\n"
          ],
          "name": "stdout"
        }
      ]
    },
    {
      "cell_type": "markdown",
      "metadata": {
        "id": "Eoswdw2Bs281"
      },
      "source": [
        "Good accuracy! Very happy result :)"
      ]
    },
    {
      "cell_type": "markdown",
      "metadata": {
        "id": "12jdd6NXk1Y7"
      },
      "source": [
        "# Another classification DataSet: Wine DataSet\n",
        "https://www.kaggle.com/uciml/red-wine-quality-cortez-et-al-2009"
      ]
    },
    {
      "cell_type": "code",
      "metadata": {
        "colab": {
          "base_uri": "https://localhost:8080/",
          "height": 251
        },
        "id": "YBxATFlPYFzi",
        "outputId": "9a8cabb7-99b9-4ee6-e441-b86bc7d7961a"
      },
      "source": [
        "df_wine = pd.read_csv(\"../data/wine/winequality-red.csv\")\n",
        "df_wine.head()"
      ],
      "execution_count": 28,
      "outputs": [
        {
          "output_type": "execute_result",
          "data": {
            "text/html": [
              "<div>\n",
              "<style scoped>\n",
              "    .dataframe tbody tr th:only-of-type {\n",
              "        vertical-align: middle;\n",
              "    }\n",
              "\n",
              "    .dataframe tbody tr th {\n",
              "        vertical-align: top;\n",
              "    }\n",
              "\n",
              "    .dataframe thead th {\n",
              "        text-align: right;\n",
              "    }\n",
              "</style>\n",
              "<table border=\"1\" class=\"dataframe\">\n",
              "  <thead>\n",
              "    <tr style=\"text-align: right;\">\n",
              "      <th></th>\n",
              "      <th>fixed acidity</th>\n",
              "      <th>volatile acidity</th>\n",
              "      <th>citric acid</th>\n",
              "      <th>residual sugar</th>\n",
              "      <th>chlorides</th>\n",
              "      <th>free sulfur dioxide</th>\n",
              "      <th>total sulfur dioxide</th>\n",
              "      <th>density</th>\n",
              "      <th>pH</th>\n",
              "      <th>sulphates</th>\n",
              "      <th>alcohol</th>\n",
              "      <th>quality</th>\n",
              "    </tr>\n",
              "  </thead>\n",
              "  <tbody>\n",
              "    <tr>\n",
              "      <th>0</th>\n",
              "      <td>7.4</td>\n",
              "      <td>0.70</td>\n",
              "      <td>0.00</td>\n",
              "      <td>1.9</td>\n",
              "      <td>0.076</td>\n",
              "      <td>11.0</td>\n",
              "      <td>34.0</td>\n",
              "      <td>0.9978</td>\n",
              "      <td>3.51</td>\n",
              "      <td>0.56</td>\n",
              "      <td>9.4</td>\n",
              "      <td>5</td>\n",
              "    </tr>\n",
              "    <tr>\n",
              "      <th>1</th>\n",
              "      <td>7.8</td>\n",
              "      <td>0.88</td>\n",
              "      <td>0.00</td>\n",
              "      <td>2.6</td>\n",
              "      <td>0.098</td>\n",
              "      <td>25.0</td>\n",
              "      <td>67.0</td>\n",
              "      <td>0.9968</td>\n",
              "      <td>3.20</td>\n",
              "      <td>0.68</td>\n",
              "      <td>9.8</td>\n",
              "      <td>5</td>\n",
              "    </tr>\n",
              "    <tr>\n",
              "      <th>2</th>\n",
              "      <td>7.8</td>\n",
              "      <td>0.76</td>\n",
              "      <td>0.04</td>\n",
              "      <td>2.3</td>\n",
              "      <td>0.092</td>\n",
              "      <td>15.0</td>\n",
              "      <td>54.0</td>\n",
              "      <td>0.9970</td>\n",
              "      <td>3.26</td>\n",
              "      <td>0.65</td>\n",
              "      <td>9.8</td>\n",
              "      <td>5</td>\n",
              "    </tr>\n",
              "    <tr>\n",
              "      <th>3</th>\n",
              "      <td>11.2</td>\n",
              "      <td>0.28</td>\n",
              "      <td>0.56</td>\n",
              "      <td>1.9</td>\n",
              "      <td>0.075</td>\n",
              "      <td>17.0</td>\n",
              "      <td>60.0</td>\n",
              "      <td>0.9980</td>\n",
              "      <td>3.16</td>\n",
              "      <td>0.58</td>\n",
              "      <td>9.8</td>\n",
              "      <td>6</td>\n",
              "    </tr>\n",
              "    <tr>\n",
              "      <th>4</th>\n",
              "      <td>7.4</td>\n",
              "      <td>0.70</td>\n",
              "      <td>0.00</td>\n",
              "      <td>1.9</td>\n",
              "      <td>0.076</td>\n",
              "      <td>11.0</td>\n",
              "      <td>34.0</td>\n",
              "      <td>0.9978</td>\n",
              "      <td>3.51</td>\n",
              "      <td>0.56</td>\n",
              "      <td>9.4</td>\n",
              "      <td>5</td>\n",
              "    </tr>\n",
              "  </tbody>\n",
              "</table>\n",
              "</div>"
            ],
            "text/plain": [
              "   fixed acidity  volatile acidity  citric acid  ...  sulphates  alcohol  quality\n",
              "0            7.4              0.70         0.00  ...       0.56      9.4        5\n",
              "1            7.8              0.88         0.00  ...       0.68      9.8        5\n",
              "2            7.8              0.76         0.04  ...       0.65      9.8        5\n",
              "3           11.2              0.28         0.56  ...       0.58      9.8        6\n",
              "4            7.4              0.70         0.00  ...       0.56      9.4        5\n",
              "\n",
              "[5 rows x 12 columns]"
            ]
          },
          "metadata": {
            "tags": []
          },
          "execution_count": 28
        }
      ]
    },
    {
      "cell_type": "code",
      "metadata": {
        "colab": {
          "base_uri": "https://localhost:8080/"
        },
        "id": "vkE1aBMyY9sa",
        "outputId": "f0ef0752-aad4-4ba9-8951-f430643aea9c"
      },
      "source": [
        "df_wine.info()"
      ],
      "execution_count": 29,
      "outputs": [
        {
          "output_type": "stream",
          "text": [
            "<class 'pandas.core.frame.DataFrame'>\n",
            "RangeIndex: 1599 entries, 0 to 1598\n",
            "Data columns (total 12 columns):\n",
            " #   Column                Non-Null Count  Dtype  \n",
            "---  ------                --------------  -----  \n",
            " 0   fixed acidity         1599 non-null   float64\n",
            " 1   volatile acidity      1599 non-null   float64\n",
            " 2   citric acid           1599 non-null   float64\n",
            " 3   residual sugar        1599 non-null   float64\n",
            " 4   chlorides             1599 non-null   float64\n",
            " 5   free sulfur dioxide   1599 non-null   float64\n",
            " 6   total sulfur dioxide  1599 non-null   float64\n",
            " 7   density               1599 non-null   float64\n",
            " 8   pH                    1599 non-null   float64\n",
            " 9   sulphates             1599 non-null   float64\n",
            " 10  alcohol               1599 non-null   float64\n",
            " 11  quality               1599 non-null   int64  \n",
            "dtypes: float64(11), int64(1)\n",
            "memory usage: 150.0 KB\n"
          ],
          "name": "stdout"
        }
      ]
    },
    {
      "cell_type": "markdown",
      "metadata": {
        "id": "NBjudLEKFYnE"
      },
      "source": [
        "**VERY CLEAN DATA**"
      ]
    },
    {
      "cell_type": "markdown",
      "metadata": {
        "id": "FM95qVuRFe_b"
      },
      "source": [
        "|Columns| Explanation|\n",
        "|---|---|\n",
        "| fixed acidity | most acids involved with wine or fixed or nonvolatile (do not evaporate readily) |\n",
        "|volatile acidity |the amount of acetic acid in wine, which at too high of levels can lead to an unpleasant, vinegar taste | \n",
        "|citric acid|found in small quantities, citric acid can add 'freshness' and flavor to wines|\n",
        "|residual sugar|the amount of sugar remaining after fermentation stops, it's rare to find wines with less than 1 gram/liter and wines with greater than 45 grams/liter are considered sweet|\n",
        "|chlorides|the amount of salt in the wine|\n",
        "|free sulfur dioxide|the free form of SO2 exists in equilibrium between molecular SO2 (as a dissolved gas) and bisulfite ion; it prevents microbial growth and the oxidation of wine|\n",
        "|total sulfur dioxide|amount of free and bound forms of S02; in low concentrations, SO2 is mostly undetectable in wine, but at free SO2 concentrations over 50 ppm, SO2 becomes evident in the nose and taste of wine|\n",
        "|density|the density of water is close to that of water depending on the percent alcohol and sugar content|\n",
        "|pH|describes how acidic or basic a wine is on a scale from 0 (very acidic) to 14 (very basic); most wines are between 3-4 on the pH scale|\n",
        "|sulphates|a wine additive which can contribute to sulfur dioxide gas (S02) levels, wich acts as an antimicrobial and antioxidant|\n",
        "|alcohol| alcohol level|\n",
        "|quality| the quality of the wine|"
      ]
    },
    {
      "cell_type": "code",
      "metadata": {
        "id": "u6ESsubERjWL"
      },
      "source": [
        "wine_data = np.array(df_wine, dtype='float32')"
      ],
      "execution_count": 30,
      "outputs": []
    },
    {
      "cell_type": "code",
      "metadata": {
        "colab": {
          "base_uri": "https://localhost:8080/"
        },
        "id": "ajFJYHPPZKMD",
        "outputId": "d0f8f9c8-4a27-4d91-bc1d-139e5fd539ab"
      },
      "source": [
        "y = wine_data[:,11].astype(int)\n",
        "y"
      ],
      "execution_count": 31,
      "outputs": [
        {
          "output_type": "execute_result",
          "data": {
            "text/plain": [
              "array([5, 5, 5, ..., 6, 5, 6])"
            ]
          },
          "metadata": {
            "tags": []
          },
          "execution_count": 31
        }
      ]
    },
    {
      "cell_type": "code",
      "metadata": {
        "id": "LicKptquqSCQ"
      },
      "source": [
        "y = one_hot_encoding_scratch(y)"
      ],
      "execution_count": 32,
      "outputs": []
    },
    {
      "cell_type": "code",
      "metadata": {
        "colab": {
          "base_uri": "https://localhost:8080/"
        },
        "id": "OarjWxoZq0P9",
        "outputId": "99a48650-df26-44c5-b2c3-5f43ab3d9a47"
      },
      "source": [
        "y.shape"
      ],
      "execution_count": 33,
      "outputs": [
        {
          "output_type": "execute_result",
          "data": {
            "text/plain": [
              "(1599, 9)"
            ]
          },
          "metadata": {
            "tags": []
          },
          "execution_count": 33
        }
      ]
    },
    {
      "cell_type": "code",
      "metadata": {
        "id": "CGCGv1swaQ_d"
      },
      "source": [
        "X = wine_data[:,:11]"
      ],
      "execution_count": 34,
      "outputs": []
    },
    {
      "cell_type": "markdown",
      "metadata": {
        "id": "diJy8ItzsTB4"
      },
      "source": [
        "# Split dataset to 80% train and 20% test"
      ]
    },
    {
      "cell_type": "code",
      "metadata": {
        "id": "NMtHzoWGeDBg"
      },
      "source": [
        "train_size = int(len(X) * 0.8)"
      ],
      "execution_count": 35,
      "outputs": []
    },
    {
      "cell_type": "code",
      "metadata": {
        "id": "uZ1nRANUeTSh"
      },
      "source": [
        "X_train = X[:train_size]\n",
        "X_test = X[train_size:]\n",
        "\n",
        "y_train = y[:train_size]\n",
        "y_test = y[train_size:]"
      ],
      "execution_count": 36,
      "outputs": []
    },
    {
      "cell_type": "code",
      "metadata": {
        "id": "LIZkBhEjd6qK"
      },
      "source": [
        "X_train = X_train.reshape(X_train.shape[0],X_train.shape[1]).T\n",
        "X_test = X_test.reshape(X_test.shape[0],X_test.shape[1]).T\n",
        "y_train = y_train.reshape(y_train.shape[0],y_train.shape[1]).T\n",
        "y_test = y_test.reshape(y_test.shape[0],y_test.shape[1]).T"
      ],
      "execution_count": 37,
      "outputs": []
    },
    {
      "cell_type": "code",
      "metadata": {
        "id": "99eXEUIHmrPg"
      },
      "source": [
        "num_classes = y_train.shape[0]\n",
        "num_rows = X_train.shape[0]"
      ],
      "execution_count": 38,
      "outputs": []
    },
    {
      "cell_type": "markdown",
      "metadata": {
        "id": "W4LdRW5QsZWf"
      },
      "source": [
        "# Build the neural network to classify the quality "
      ]
    },
    {
      "cell_type": "code",
      "metadata": {
        "id": "gVK-lUSu0tnw",
        "colab": {
          "base_uri": "https://localhost:8080/"
        },
        "outputId": "d12c7798-ae6c-42c7-9a53-7ffc9848080a"
      },
      "source": [
        "net = Network()\n",
        "\n",
        "net.add(Dense(num_rows, 64, Tanh(), Adam()))                \n",
        "net.add(Dense(64, 32, Tanh(), Adam()))                \n",
        "net.add(Dense(32, 16, Tanh(), Adam()))                \n",
        "net.add(SoftmaxLayer(16, num_classes, Softmax(), Adam()))                \n",
        "                  \n",
        "net.use(MSE())\n",
        "net.train(X_train, y_train, epochs=10, learning_rate=0.001)"
      ],
      "execution_count": 39,
      "outputs": [
        {
          "output_type": "stream",
          "text": [
            "Epoch 1 finished \t MSE error 0.0005656672606139108\n",
            "Epoch 2 finished \t MSE error 0.0005611711086593945\n",
            "Epoch 3 finished \t MSE error 0.0005481882484758075\n",
            "Epoch 4 finished \t MSE error 0.000540228821009822\n",
            "Epoch 5 finished \t MSE error 0.0005077095772468366\n",
            "Epoch 6 finished \t MSE error 0.0005485341549348423\n",
            "Epoch 7 finished \t MSE error 0.0005352981526697756\n",
            "Epoch 8 finished \t MSE error 0.0005295744000108076\n",
            "Epoch 9 finished \t MSE error 0.0005351944191345227\n",
            "Epoch 10 finished \t MSE error 0.0005084591501289616\n"
          ],
          "name": "stdout"
        }
      ]
    },
    {
      "cell_type": "code",
      "metadata": {
        "colab": {
          "base_uri": "https://localhost:8080/"
        },
        "id": "BVG2anoXnJcr",
        "outputId": "873b11bc-d916-4703-8956-067284c81dd1"
      },
      "source": [
        "train_acc =net.accuracy(X_train,y_train)\n",
        "print(f\"Train Dataset Accuracy: {train_acc}%\")"
      ],
      "execution_count": 40,
      "outputs": [
        {
          "output_type": "stream",
          "text": [
            "Train Dataset Accuracy: 51.133698201720094%\n"
          ],
          "name": "stdout"
        }
      ]
    },
    {
      "cell_type": "code",
      "metadata": {
        "colab": {
          "base_uri": "https://localhost:8080/"
        },
        "id": "csodagclgxjz",
        "outputId": "4d06cbb4-f503-46ea-ff57-225d6a3cd4e3"
      },
      "source": [
        "test_acc = net.accuracy(X_test,y_test)\n",
        "print(f\"Test Dataset Accuracy: {test_acc}%\")"
      ],
      "execution_count": 41,
      "outputs": [
        {
          "output_type": "stream",
          "text": [
            "Test Dataset Accuracy: 51.5625%\n"
          ],
          "name": "stdout"
        }
      ]
    },
    {
      "cell_type": "markdown",
      "metadata": {
        "id": "1Sibwkhxsq46"
      },
      "source": [
        "Although it is around ~50%, I am satisfied"
      ]
    },
    {
      "cell_type": "markdown",
      "metadata": {
        "id": "vcp0KDWFoQIN"
      },
      "source": [
        "Improvements that could be done:\n",
        "- Save the best model with the lowest loss\n",
        "- Add more losss\n",
        "- Add Regularizers\n",
        "- Add more optimizers \n",
        "- Add more activation functions"
      ]
    }
  ]
}